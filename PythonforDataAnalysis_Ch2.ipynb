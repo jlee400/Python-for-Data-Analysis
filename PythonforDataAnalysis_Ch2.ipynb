{
 "cells": [
  {
   "cell_type": "markdown",
   "id": "785bc010-b48c-4f72-ab65-32f5389e849b",
   "metadata": {},
   "source": [
    "# Chapter 2\n",
    "## Library"
   ]
  },
  {
   "cell_type": "code",
   "execution_count": 18,
   "id": "ab9ecd19-a0b2-48b1-a368-ff1800086962",
   "metadata": {},
   "outputs": [],
   "source": [
    "import numpy as np\n",
    "import pandas as pd"
   ]
  },
  {
   "cell_type": "markdown",
   "id": "81a026c9-2d6a-4873-8fba-20e32655f4a6",
   "metadata": {},
   "source": [
    "### Attribute and method"
   ]
  },
  {
   "cell_type": "code",
   "execution_count": 14,
   "id": "ed04f343-9fda-40af-a673-5519afe5fbb6",
   "metadata": {},
   "outputs": [],
   "source": [
    "a = \"foo\"\n",
    "#a. #a. and press tab"
   ]
  },
  {
   "cell_type": "code",
   "execution_count": 22,
   "id": "7f0da4a8-6dee-4c20-b1de-aa425b1530f8",
   "metadata": {},
   "outputs": [
    {
     "data": {
      "text/plain": [
       "<function str.split(sep=None, maxsplit=-1)>"
      ]
     },
     "execution_count": 22,
     "metadata": {},
     "output_type": "execute_result"
    }
   ],
   "source": [
    "getattr(a,\"split\")"
   ]
  },
  {
   "cell_type": "markdown",
   "id": "ac9285df-19ce-4488-b361-2db71708263e",
   "metadata": {},
   "source": [
    "### Duck typing"
   ]
  },
  {
   "cell_type": "code",
   "execution_count": 25,
   "id": "bfdec68e-12aa-4207-83fe-6a21dc1f6f56",
   "metadata": {},
   "outputs": [],
   "source": [
    "def isititerable(obj):\n",
    "    try:\n",
    "        iter(obj)\n",
    "        return True\n",
    "    except TypeError:\n",
    "        return False"
   ]
  },
  {
   "cell_type": "code",
   "execution_count": 27,
   "id": "b24c0b5b-8052-44bf-8e32-003d0d8759f3",
   "metadata": {},
   "outputs": [
    {
     "data": {
      "text/plain": [
       "True"
      ]
     },
     "execution_count": 27,
     "metadata": {},
     "output_type": "execute_result"
    }
   ],
   "source": [
    "isititerable(\"a string\")"
   ]
  },
  {
   "cell_type": "code",
   "execution_count": 29,
   "id": "8087e81a-ede2-4c8f-a04e-1ac44cd3ab3c",
   "metadata": {},
   "outputs": [
    {
     "data": {
      "text/plain": [
       "True"
      ]
     },
     "execution_count": 29,
     "metadata": {},
     "output_type": "execute_result"
    }
   ],
   "source": [
    "isititerable([1,2,3])"
   ]
  },
  {
   "cell_type": "code",
   "execution_count": 31,
   "id": "d6a3fd18-867f-4d3c-816e-4889d6873d49",
   "metadata": {},
   "outputs": [
    {
     "data": {
      "text/plain": [
       "False"
      ]
     },
     "execution_count": 31,
     "metadata": {},
     "output_type": "execute_result"
    }
   ],
   "source": [
    "isititerable(5)"
   ]
  },
  {
   "cell_type": "markdown",
   "id": "431377d8-f517-4fb4-b4f0-b5c2d99c3c6e",
   "metadata": {},
   "source": [
    "### number"
   ]
  },
  {
   "cell_type": "code",
   "execution_count": 40,
   "id": "163de741-2ec9-4b65-ad0c-ac01718eff63",
   "metadata": {},
   "outputs": [
    {
     "data": {
      "text/plain": [
       "26254519291092456596965462913230729701102721"
      ]
     },
     "execution_count": 40,
     "metadata": {},
     "output_type": "execute_result"
    }
   ],
   "source": [
    "ival = 17239871\n",
    "ival ** 6"
   ]
  },
  {
   "cell_type": "code",
   "execution_count": 44,
   "id": "afd7c655-46fe-47df-9f8b-d2ce44825a4d",
   "metadata": {},
   "outputs": [],
   "source": [
    "fval = 7.243\n",
    "fval2 = 6.78e-5"
   ]
  },
  {
   "cell_type": "code",
   "execution_count": 46,
   "id": "ef704484-29e4-4dc6-994e-b2c8e7403664",
   "metadata": {},
   "outputs": [
    {
     "data": {
      "text/plain": [
       "1.5"
      ]
     },
     "execution_count": 46,
     "metadata": {},
     "output_type": "execute_result"
    }
   ],
   "source": [
    "3/2"
   ]
  },
  {
   "cell_type": "code",
   "execution_count": 50,
   "id": "498e7dce-ec79-464d-90cd-79d0c541d90e",
   "metadata": {},
   "outputs": [
    {
     "data": {
      "text/plain": [
       "1"
      ]
     },
     "execution_count": 50,
     "metadata": {},
     "output_type": "execute_result"
    }
   ],
   "source": [
    "3//2"
   ]
  },
  {
   "cell_type": "markdown",
   "id": "3652a36b-9933-4306-98e7-10081ce3615f",
   "metadata": {},
   "source": [
    "### String"
   ]
  },
  {
   "cell_type": "code",
   "execution_count": 55,
   "id": "db5bc9eb-39dd-4132-a5a7-eba109c26301",
   "metadata": {},
   "outputs": [],
   "source": [
    "a = 'one way of writing a string'\n",
    "b = \"another way\""
   ]
  },
  {
   "cell_type": "code",
   "execution_count": 57,
   "id": "a2cc2888-aff6-40cd-aec9-105b6850e414",
   "metadata": {},
   "outputs": [],
   "source": [
    "c = \"\"\"\n",
    "This is a longer string that\n",
    "spans multiple lines\n",
    "\"\"\""
   ]
  },
  {
   "cell_type": "code",
   "execution_count": 59,
   "id": "cc702647-571e-476a-ab20-a8a73ffa943d",
   "metadata": {},
   "outputs": [
    {
     "data": {
      "text/plain": [
       "3"
      ]
     },
     "execution_count": 59,
     "metadata": {},
     "output_type": "execute_result"
    }
   ],
   "source": [
    "c.count(\"\\n\")"
   ]
  },
  {
   "cell_type": "code",
   "execution_count": 69,
   "id": "182063e3-90fa-4f9c-b3c2-bb97f7df719a",
   "metadata": {},
   "outputs": [
    {
     "ename": "TypeError",
     "evalue": "'str' object does not support item assignment",
     "output_type": "error",
     "traceback": [
      "\u001b[1;31m---------------------------------------------------------------------------\u001b[0m",
      "\u001b[1;31mTypeError\u001b[0m                                 Traceback (most recent call last)",
      "Cell \u001b[1;32mIn[69], line 2\u001b[0m\n\u001b[0;32m      1\u001b[0m a \u001b[38;5;241m=\u001b[39m \u001b[38;5;124m\"\u001b[39m\u001b[38;5;124mthis is a string\u001b[39m\u001b[38;5;124m\"\u001b[39m\n\u001b[1;32m----> 2\u001b[0m a[\u001b[38;5;241m10\u001b[39m] \u001b[38;5;241m=\u001b[39m \u001b[38;5;124m\"\u001b[39m\u001b[38;5;124mf\u001b[39m\u001b[38;5;124m\"\u001b[39m\n",
      "\u001b[1;31mTypeError\u001b[0m: 'str' object does not support item assignment"
     ]
    }
   ],
   "source": [
    "a = \"this is a string\"\n",
    "a[10] = \"f\""
   ]
  },
  {
   "cell_type": "code",
   "execution_count": 71,
   "id": "f147d642-49f6-4ea0-84e2-8fce38991e5d",
   "metadata": {},
   "outputs": [],
   "source": [
    "b = a.replace(\"string\", \"longer string\")"
   ]
  },
  {
   "cell_type": "code",
   "execution_count": 73,
   "id": "98d26656-4b74-4117-a805-6d0972717292",
   "metadata": {},
   "outputs": [
    {
     "data": {
      "text/plain": [
       "'this is a longer string'"
      ]
     },
     "execution_count": 73,
     "metadata": {},
     "output_type": "execute_result"
    }
   ],
   "source": [
    "b"
   ]
  },
  {
   "cell_type": "code",
   "execution_count": 77,
   "id": "7e72614e-1d90-45e3-90c0-f310498991de",
   "metadata": {},
   "outputs": [
    {
     "data": {
      "text/plain": [
       "'this is a string'"
      ]
     },
     "execution_count": 77,
     "metadata": {},
     "output_type": "execute_result"
    }
   ],
   "source": [
    "a"
   ]
  },
  {
   "cell_type": "code",
   "execution_count": 79,
   "id": "fbbedd98-3ca3-412b-b9e3-1767085a4244",
   "metadata": {},
   "outputs": [],
   "source": [
    "a = 5.6\n",
    "s = str(a)"
   ]
  },
  {
   "cell_type": "code",
   "execution_count": 81,
   "id": "608ba697-ef75-4046-93c5-5e3b005c701a",
   "metadata": {},
   "outputs": [
    {
     "name": "stdout",
     "output_type": "stream",
     "text": [
      "5.6\n"
     ]
    }
   ],
   "source": [
    "print(s)"
   ]
  },
  {
   "cell_type": "code",
   "execution_count": 83,
   "id": "1e43d92f-ea99-42d4-b7ad-0a5f3320fff0",
   "metadata": {},
   "outputs": [
    {
     "data": {
      "text/plain": [
       "['p', 'y', 't', 'h', 'o', 'n']"
      ]
     },
     "execution_count": 83,
     "metadata": {},
     "output_type": "execute_result"
    }
   ],
   "source": [
    "s = \"python\"\n",
    "list(s)"
   ]
  },
  {
   "cell_type": "code",
   "execution_count": 85,
   "id": "20beb332-4adb-4434-a8fb-b0f7f802110a",
   "metadata": {},
   "outputs": [
    {
     "data": {
      "text/plain": [
       "'pyt'"
      ]
     },
     "execution_count": 85,
     "metadata": {},
     "output_type": "execute_result"
    }
   ],
   "source": [
    "s[:3]"
   ]
  },
  {
   "cell_type": "code",
   "execution_count": 87,
   "id": "9d474b09-e4c0-443d-9659-0d2e7bf02b98",
   "metadata": {},
   "outputs": [
    {
     "name": "stdout",
     "output_type": "stream",
     "text": [
      "12\\34\n"
     ]
    }
   ],
   "source": [
    "s = \"12\\\\34\"\n",
    "print(s)"
   ]
  },
  {
   "cell_type": "code",
   "execution_count": 89,
   "id": "84ab2c8d-29f3-4c88-935c-f8db45be6fe8",
   "metadata": {},
   "outputs": [
    {
     "name": "stdout",
     "output_type": "stream",
     "text": [
      "this\\has\\no\\special\\characters\n"
     ]
    }
   ],
   "source": [
    "s = r\"this\\has\\no\\special\\characters\"\n",
    "print(s)"
   ]
  },
  {
   "cell_type": "code",
   "execution_count": 91,
   "id": "4ff36128-02f0-464a-aa94-7d97d6fb91f4",
   "metadata": {},
   "outputs": [
    {
     "data": {
      "text/plain": [
       "'this is the first halfand this is the second half'"
      ]
     },
     "execution_count": 91,
     "metadata": {},
     "output_type": "execute_result"
    }
   ],
   "source": [
    "a = \"this is the first half\"\n",
    "b = \"and this is the second half\"\n",
    "a + b"
   ]
  },
  {
   "cell_type": "code",
   "execution_count": 95,
   "id": "cb5a7314-db77-4fcb-aeae-bb8f9b776d1c",
   "metadata": {},
   "outputs": [],
   "source": [
    "template = \"{0:.2f} {1:s} are worth US${2:d}\"\n",
    "# {0:.2f} is round the first element to second decimal places\n",
    "# {1:s} second element into string\n",
    "# {2:d} third element into integer"
   ]
  },
  {
   "cell_type": "code",
   "execution_count": 97,
   "id": "69de0493-8c6e-4cfc-8bfd-e2871825be96",
   "metadata": {},
   "outputs": [
    {
     "data": {
      "text/plain": [
       "'88.46 Argentine Pesos are worth US$1'"
      ]
     },
     "execution_count": 97,
     "metadata": {},
     "output_type": "execute_result"
    }
   ],
   "source": [
    "template.format(88.46, \"Argentine Pesos\", 1)"
   ]
  },
  {
   "cell_type": "markdown",
   "id": "6fd3da52-c666-420f-b9e5-aa292f494530",
   "metadata": {},
   "source": [
    "### f-string"
   ]
  },
  {
   "cell_type": "code",
   "execution_count": 100,
   "id": "e1da261d-4fb3-42c2-bb28-da46bc061996",
   "metadata": {},
   "outputs": [],
   "source": [
    "amount = 10\n",
    "rate = 88.46\n",
    "currency = \"Pesos\"\n",
    "result = f\"{amount} {currency} is worth US${amount/rate}\""
   ]
  },
  {
   "cell_type": "code",
   "execution_count": 102,
   "id": "ad123b04-ce98-4bba-8a45-9f2a42a3743a",
   "metadata": {},
   "outputs": [
    {
     "data": {
      "text/plain": [
       "'10 Pesos is worth US$0.11'"
      ]
     },
     "execution_count": 102,
     "metadata": {},
     "output_type": "execute_result"
    }
   ],
   "source": [
    "f\"{amount} {currency} is worth US${amount / rate:.2f}\""
   ]
  },
  {
   "cell_type": "markdown",
   "id": "60b906b3-9abd-443b-ae6f-b367afd6fa4a",
   "metadata": {},
   "source": [
    "### Byte and Unicode"
   ]
  },
  {
   "cell_type": "code",
   "execution_count": 105,
   "id": "37b63b11-68a7-4913-a444-c2a7b8d03838",
   "metadata": {},
   "outputs": [
    {
     "data": {
      "text/plain": [
       "'español'"
      ]
     },
     "execution_count": 105,
     "metadata": {},
     "output_type": "execute_result"
    }
   ],
   "source": [
    "val = \"español\"\n",
    "val"
   ]
  },
  {
   "cell_type": "markdown",
   "id": "e74c41c4-7a8e-44d7-a53e-1c7dbc3a3e81",
   "metadata": {},
   "source": [
    "#### encode"
   ]
  },
  {
   "cell_type": "code",
   "execution_count": 107,
   "id": "19d0e8d2-c12d-4b83-b837-adbaa529e035",
   "metadata": {},
   "outputs": [
    {
     "data": {
      "text/plain": [
       "b'espa\\xc3\\xb1ol'"
      ]
     },
     "execution_count": 107,
     "metadata": {},
     "output_type": "execute_result"
    }
   ],
   "source": [
    "val_utf8 = val.encode(\"utf-8\")\n",
    "val_utf8"
   ]
  },
  {
   "cell_type": "code",
   "execution_count": 111,
   "id": "629bac6f-55df-41b6-b3aa-11be9e3dc08f",
   "metadata": {},
   "outputs": [
    {
     "data": {
      "text/plain": [
       "bytes"
      ]
     },
     "execution_count": 111,
     "metadata": {},
     "output_type": "execute_result"
    }
   ],
   "source": [
    "type(val_utf8)"
   ]
  },
  {
   "cell_type": "markdown",
   "id": "d07fad8b-f940-463a-96c4-696d968dfb23",
   "metadata": {},
   "source": [
    "#### decode"
   ]
  },
  {
   "cell_type": "code",
   "execution_count": 113,
   "id": "704bd287-7f78-4578-bb76-9e933b9f29df",
   "metadata": {},
   "outputs": [
    {
     "data": {
      "text/plain": [
       "'español'"
      ]
     },
     "execution_count": 113,
     "metadata": {},
     "output_type": "execute_result"
    }
   ],
   "source": [
    "val_utf8.decode(\"utf-8\")"
   ]
  },
  {
   "cell_type": "code",
   "execution_count": 117,
   "id": "19d5adca-4580-47be-a79f-939e80469d6d",
   "metadata": {},
   "outputs": [
    {
     "data": {
      "text/plain": [
       "b'espa\\xf1ol'"
      ]
     },
     "execution_count": 117,
     "metadata": {},
     "output_type": "execute_result"
    }
   ],
   "source": [
    "val.encode(\"latin1\")"
   ]
  },
  {
   "cell_type": "code",
   "execution_count": 119,
   "id": "31c67e24-409b-4fd0-ba43-463dbe9a53da",
   "metadata": {},
   "outputs": [
    {
     "data": {
      "text/plain": [
       "b'\\xff\\xfee\\x00s\\x00p\\x00a\\x00\\xf1\\x00o\\x00l\\x00'"
      ]
     },
     "execution_count": 119,
     "metadata": {},
     "output_type": "execute_result"
    }
   ],
   "source": [
    "val.encode(\"utf-16\")"
   ]
  },
  {
   "cell_type": "code",
   "execution_count": 121,
   "id": "0b1e6c1b-a16d-4311-b69a-0cfdc14f8bc0",
   "metadata": {},
   "outputs": [
    {
     "data": {
      "text/plain": [
       "b'e\\x00s\\x00p\\x00a\\x00\\xf1\\x00o\\x00l\\x00'"
      ]
     },
     "execution_count": 121,
     "metadata": {},
     "output_type": "execute_result"
    }
   ],
   "source": [
    "val.encode(\"utf-16le\")"
   ]
  },
  {
   "cell_type": "markdown",
   "id": "aa4ec152-202b-4d17-91d6-08f5696bc3c9",
   "metadata": {},
   "source": [
    "### Boolean"
   ]
  },
  {
   "cell_type": "code",
   "execution_count": 126,
   "id": "bd93c76f-4da7-47e7-a92a-4c4186b78559",
   "metadata": {},
   "outputs": [
    {
     "data": {
      "text/plain": [
       "True"
      ]
     },
     "execution_count": 126,
     "metadata": {},
     "output_type": "execute_result"
    }
   ],
   "source": [
    "True and True\n",
    "False or True"
   ]
  },
  {
   "cell_type": "code",
   "execution_count": 128,
   "id": "023d11ea-c888-415f-87fc-b1e10d44b481",
   "metadata": {},
   "outputs": [
    {
     "data": {
      "text/plain": [
       "1"
      ]
     },
     "execution_count": 128,
     "metadata": {},
     "output_type": "execute_result"
    }
   ],
   "source": [
    "int(False)\n",
    "int(True)"
   ]
  },
  {
   "cell_type": "code",
   "execution_count": 134,
   "id": "b10fba86-4979-4601-9083-5d29cbbe7a0b",
   "metadata": {},
   "outputs": [
    {
     "data": {
      "text/plain": [
       "False"
      ]
     },
     "execution_count": 134,
     "metadata": {},
     "output_type": "execute_result"
    }
   ],
   "source": [
    "a = True\n",
    "b = False\n",
    "not a"
   ]
  },
  {
   "cell_type": "code",
   "execution_count": 136,
   "id": "0aaa22bd-1039-4cd9-af44-97e18d71f857",
   "metadata": {},
   "outputs": [
    {
     "data": {
      "text/plain": [
       "True"
      ]
     },
     "execution_count": 136,
     "metadata": {},
     "output_type": "execute_result"
    }
   ],
   "source": [
    "not b"
   ]
  },
  {
   "cell_type": "markdown",
   "id": "ec1bb3aa-0e4c-49a9-94cb-39df9a38ac62",
   "metadata": {},
   "source": [
    "### Type Change"
   ]
  },
  {
   "cell_type": "code",
   "execution_count": 139,
   "id": "3ced41b8-a558-4b1c-a6e5-75cee05c01af",
   "metadata": {},
   "outputs": [],
   "source": [
    "s = \"3.14159\"\n",
    "fval = float(s)"
   ]
  },
  {
   "cell_type": "code",
   "execution_count": 145,
   "id": "17f7ca30-d60c-4475-8ddd-8530305606b5",
   "metadata": {},
   "outputs": [
    {
     "data": {
      "text/plain": [
       "float"
      ]
     },
     "execution_count": 145,
     "metadata": {},
     "output_type": "execute_result"
    }
   ],
   "source": [
    "type(fval)"
   ]
  },
  {
   "cell_type": "code",
   "execution_count": 147,
   "id": "6f4fee80-5e8d-43de-bb0d-0cd72079e410",
   "metadata": {},
   "outputs": [
    {
     "data": {
      "text/plain": [
       "3"
      ]
     },
     "execution_count": 147,
     "metadata": {},
     "output_type": "execute_result"
    }
   ],
   "source": [
    "int(fval)"
   ]
  },
  {
   "cell_type": "code",
   "execution_count": 149,
   "id": "0572cd69-8609-4e44-a9c4-23585253a81d",
   "metadata": {},
   "outputs": [
    {
     "data": {
      "text/plain": [
       "True"
      ]
     },
     "execution_count": 149,
     "metadata": {},
     "output_type": "execute_result"
    }
   ],
   "source": [
    "bool(fval)"
   ]
  },
  {
   "cell_type": "code",
   "execution_count": 151,
   "id": "a6ab8693-b669-4a0d-925f-619cb7b0e8ef",
   "metadata": {},
   "outputs": [
    {
     "data": {
      "text/plain": [
       "False"
      ]
     },
     "execution_count": 151,
     "metadata": {},
     "output_type": "execute_result"
    }
   ],
   "source": [
    "bool(0)"
   ]
  },
  {
   "cell_type": "markdown",
   "id": "d1162751-db65-4d1d-bf20-8dd6ab508654",
   "metadata": {},
   "source": [
    "### None"
   ]
  },
  {
   "cell_type": "code",
   "execution_count": 155,
   "id": "98e1b22f-4412-4a2d-af54-382156f86229",
   "metadata": {},
   "outputs": [
    {
     "data": {
      "text/plain": [
       "True"
      ]
     },
     "execution_count": 155,
     "metadata": {},
     "output_type": "execute_result"
    }
   ],
   "source": [
    "a = None\n",
    "a is None"
   ]
  },
  {
   "cell_type": "code",
   "execution_count": 157,
   "id": "be7881b0-600f-491d-befb-072bfc5ed104",
   "metadata": {},
   "outputs": [
    {
     "data": {
      "text/plain": [
       "True"
      ]
     },
     "execution_count": 157,
     "metadata": {},
     "output_type": "execute_result"
    }
   ],
   "source": [
    "b = 5 \n",
    "b is not None"
   ]
  },
  {
   "cell_type": "code",
   "execution_count": 161,
   "id": "d9b3f9bb-464a-41f8-986b-92f9ff5b8f56",
   "metadata": {},
   "outputs": [],
   "source": [
    "def add_and_maybe_multiply(a,b,c=None):\n",
    "    result = a + b\n",
    "    if c is not None:\n",
    "        result = result * c\n",
    "    return result"
   ]
  },
  {
   "cell_type": "code",
   "execution_count": 163,
   "id": "af8e421c-1d8e-4953-96b0-5dc1a4879fd7",
   "metadata": {},
   "outputs": [
    {
     "data": {
      "text/plain": [
       "29"
      ]
     },
     "execution_count": 163,
     "metadata": {},
     "output_type": "execute_result"
    }
   ],
   "source": [
    "from datetime import datetime, date, time\n",
    "dt = datetime(2011,10,29,20,30,21)\n",
    "dt.day"
   ]
  },
  {
   "cell_type": "code",
   "execution_count": 165,
   "id": "54adf007-4afb-415f-b1d9-066ba858d07a",
   "metadata": {},
   "outputs": [
    {
     "data": {
      "text/plain": [
       "30"
      ]
     },
     "execution_count": 165,
     "metadata": {},
     "output_type": "execute_result"
    }
   ],
   "source": [
    "dt.minute"
   ]
  },
  {
   "cell_type": "code",
   "execution_count": 169,
   "id": "b25983b5-5956-4f31-b618-78a788880778",
   "metadata": {},
   "outputs": [
    {
     "data": {
      "text/plain": [
       "datetime.date(2011, 10, 29)"
      ]
     },
     "execution_count": 169,
     "metadata": {},
     "output_type": "execute_result"
    }
   ],
   "source": [
    "dt.date()"
   ]
  },
  {
   "cell_type": "code",
   "execution_count": 171,
   "id": "faf5789c-e871-4217-ad67-634fed05b044",
   "metadata": {},
   "outputs": [
    {
     "data": {
      "text/plain": [
       "datetime.time(20, 30, 21)"
      ]
     },
     "execution_count": 171,
     "metadata": {},
     "output_type": "execute_result"
    }
   ],
   "source": [
    "dt.time()"
   ]
  },
  {
   "cell_type": "code",
   "execution_count": 177,
   "id": "c4d6470f-1760-42b0-a659-6f99229c577e",
   "metadata": {},
   "outputs": [
    {
     "data": {
      "text/plain": [
       "'2011-10-29 20:30'"
      ]
     },
     "execution_count": 177,
     "metadata": {},
     "output_type": "execute_result"
    }
   ],
   "source": [
    "dt.strftime(\"%Y-%m-%d %H:%M\")"
   ]
  },
  {
   "cell_type": "code",
   "execution_count": 179,
   "id": "fb990b38-4bf6-492a-add0-93dc037f1987",
   "metadata": {},
   "outputs": [
    {
     "data": {
      "text/plain": [
       "datetime.datetime(2009, 10, 31, 0, 0)"
      ]
     },
     "execution_count": 179,
     "metadata": {},
     "output_type": "execute_result"
    }
   ],
   "source": [
    "datetime.strptime(\"20091031\", \"%Y%m%d\")"
   ]
  },
  {
   "cell_type": "code",
   "execution_count": 181,
   "id": "c0197ad0-a18f-428e-b28e-af32b04b2eb3",
   "metadata": {},
   "outputs": [
    {
     "data": {
      "text/plain": [
       "datetime.datetime(2011, 10, 29, 20, 0)"
      ]
     },
     "execution_count": 181,
     "metadata": {},
     "output_type": "execute_result"
    }
   ],
   "source": [
    "dt_hour = dt.replace(minute=0, second=0)\n",
    "dt_hour"
   ]
  },
  {
   "cell_type": "code",
   "execution_count": 185,
   "id": "f1925012-010f-4612-9e74-f18317a9e44d",
   "metadata": {},
   "outputs": [],
   "source": [
    "dt2 = datetime(2011,11,15,22,30)\n",
    "delta = dt2 - dt"
   ]
  },
  {
   "cell_type": "code",
   "execution_count": 187,
   "id": "e19f7a90-27f4-4ffe-91a8-578af4297093",
   "metadata": {},
   "outputs": [
    {
     "data": {
      "text/plain": [
       "datetime.timedelta(days=17, seconds=7179)"
      ]
     },
     "execution_count": 187,
     "metadata": {},
     "output_type": "execute_result"
    }
   ],
   "source": [
    "delta"
   ]
  },
  {
   "cell_type": "code",
   "execution_count": 189,
   "id": "27478f95-e882-452d-8509-8bee69d0c6a1",
   "metadata": {},
   "outputs": [
    {
     "data": {
      "text/plain": [
       "datetime.timedelta"
      ]
     },
     "execution_count": 189,
     "metadata": {},
     "output_type": "execute_result"
    }
   ],
   "source": [
    "type(delta)"
   ]
  },
  {
   "cell_type": "code",
   "execution_count": 193,
   "id": "c2c5f0db-0721-47a3-ab85-10ef7c6e2d5a",
   "metadata": {},
   "outputs": [
    {
     "data": {
      "text/plain": [
       "datetime.datetime(2011, 11, 15, 22, 30)"
      ]
     },
     "execution_count": 193,
     "metadata": {},
     "output_type": "execute_result"
    }
   ],
   "source": [
    "dt + delta"
   ]
  },
  {
   "cell_type": "markdown",
   "id": "c83078fa-bcdb-41c0-a4c2-f1dc238d8b51",
   "metadata": {},
   "source": [
    "### Conditionals"
   ]
  },
  {
   "cell_type": "markdown",
   "id": "109c648d-3dc1-4dcf-8278-5a93b753f3a3",
   "metadata": {},
   "source": [
    "#### if"
   ]
  },
  {
   "cell_type": "code",
   "execution_count": 199,
   "id": "551e2476-3a7f-446f-8238-aca3d76fd2fd",
   "metadata": {},
   "outputs": [
    {
     "name": "stdout",
     "output_type": "stream",
     "text": [
      "It's negative\n"
     ]
    }
   ],
   "source": [
    "x = -5\n",
    "if x<0:\n",
    "    print(\"It's negative\")"
   ]
  },
  {
   "cell_type": "code",
   "execution_count": 201,
   "id": "3dbe56fb-1428-4976-8175-22c209a02241",
   "metadata": {},
   "outputs": [
    {
     "name": "stdout",
     "output_type": "stream",
     "text": [
      "It's negative\n"
     ]
    }
   ],
   "source": [
    "if x < 0:\n",
    "    print(\"It's negative\")\n",
    "elif x == 0:\n",
    "    print(\"Equal to zero\")\n",
    "elif 0 < x < 5 :\n",
    "    print(\"Positive but smaller than 5\")\n",
    "else:\n",
    "    print(\"Positive and larger than or equal to 5\")"
   ]
  },
  {
   "cell_type": "code",
   "execution_count": 203,
   "id": "2cc29e45-19ea-4a29-a1d2-f3134a8151d2",
   "metadata": {},
   "outputs": [
    {
     "name": "stdout",
     "output_type": "stream",
     "text": [
      "Made it\n"
     ]
    }
   ],
   "source": [
    "a = 5; b = 7\n",
    "c = 8; d = 4\n",
    "\n",
    "if a < b or c > d:\n",
    "    print(\"Made it\")"
   ]
  },
  {
   "cell_type": "code",
   "execution_count": 205,
   "id": "59a04204-dbc6-4e63-b16a-1d85202cf043",
   "metadata": {},
   "outputs": [
    {
     "data": {
      "text/plain": [
       "True"
      ]
     },
     "execution_count": 205,
     "metadata": {},
     "output_type": "execute_result"
    }
   ],
   "source": [
    "4 > 3 > 2 > 1"
   ]
  },
  {
   "cell_type": "markdown",
   "id": "761825bd-21a8-4cc4-94a9-e963111339ad",
   "metadata": {},
   "source": [
    "#### for"
   ]
  },
  {
   "cell_type": "code",
   "execution_count": 214,
   "id": "2520ab61-f616-41ab-bdb7-0e4578ddb44e",
   "metadata": {},
   "outputs": [],
   "source": [
    "sequence = [1,2,None,4,None,5]\n",
    "total = 0\n",
    "for value in sequence:\n",
    "    if value is None:\n",
    "        continue # continue is for skipping\n",
    "    total += value"
   ]
  },
  {
   "cell_type": "code",
   "execution_count": 216,
   "id": "e9bbef70-520e-48a2-b1c7-af175a5a87d1",
   "metadata": {},
   "outputs": [],
   "source": [
    "sequence = [1,2,0,4,6,5,2,1]\n",
    "total_until_5 = 0\n",
    "for value in sequence:\n",
    "    if value == 5:\n",
    "        break\n",
    "    total_until_5 += value"
   ]
  },
  {
   "cell_type": "code",
   "execution_count": 220,
   "id": "42896a4e-be3e-4ca7-ba7b-82d51650ba6d",
   "metadata": {},
   "outputs": [],
   "source": [
    "for i in range(4):\n",
    "    for j in range(4):\n",
    "        if j > i:\n",
    "            break\n",
    "            print((i,j))"
   ]
  },
  {
   "cell_type": "markdown",
   "id": "1d971e07-7b44-4de3-bced-eee45ea68681",
   "metadata": {},
   "source": [
    "#### while"
   ]
  },
  {
   "cell_type": "code",
   "execution_count": 3,
   "id": "a6556266-b1cf-413e-952f-e6700fcc4a51",
   "metadata": {},
   "outputs": [],
   "source": [
    "x = 256 \n",
    "total = 0\n",
    "while x > 0:\n",
    "    if total > 500:\n",
    "        break\n",
    "    total += x\n",
    "    x = x // 2"
   ]
  },
  {
   "cell_type": "markdown",
   "id": "49f3bba1-d87a-4ceb-8e2c-a4d2965e448e",
   "metadata": {},
   "source": [
    "#### pass"
   ]
  },
  {
   "cell_type": "code",
   "execution_count": 8,
   "id": "669c55e7-d415-46c1-bed1-1e2d7e1be8ad",
   "metadata": {},
   "outputs": [
    {
     "name": "stdout",
     "output_type": "stream",
     "text": [
      "positive!\n"
     ]
    }
   ],
   "source": [
    "if x < 0:\n",
    "    print(\"negative!\")\n",
    "elif x == 0:\n",
    "    # TODO: add content here\n",
    "    pass\n",
    "else: \n",
    "    print(\"positive!\")"
   ]
  },
  {
   "cell_type": "markdown",
   "id": "4114d796-4788-44d7-bc10-e0f0abc0ba3f",
   "metadata": {},
   "source": [
    "#### range"
   ]
  },
  {
   "cell_type": "code",
   "execution_count": 11,
   "id": "fa8a84f9-61b2-4288-8df3-c563c4a02a45",
   "metadata": {},
   "outputs": [
    {
     "data": {
      "text/plain": [
       "range(0, 10)"
      ]
     },
     "execution_count": 11,
     "metadata": {},
     "output_type": "execute_result"
    }
   ],
   "source": [
    "range(10)"
   ]
  },
  {
   "cell_type": "code",
   "execution_count": 13,
   "id": "edae4f8b-49c0-490f-88d8-739b9e157019",
   "metadata": {},
   "outputs": [
    {
     "data": {
      "text/plain": [
       "[0, 1, 2, 3, 4, 5, 6, 7, 8, 9]"
      ]
     },
     "execution_count": 13,
     "metadata": {},
     "output_type": "execute_result"
    }
   ],
   "source": [
    "list(range(10))"
   ]
  },
  {
   "cell_type": "code",
   "execution_count": 15,
   "id": "72d2f8e5-74d9-464c-9242-6b487206a1aa",
   "metadata": {},
   "outputs": [
    {
     "data": {
      "text/plain": [
       "[0, 2, 4, 6, 8, 10, 12, 14, 16, 18]"
      ]
     },
     "execution_count": 15,
     "metadata": {},
     "output_type": "execute_result"
    }
   ],
   "source": [
    "list(range(0,20,2))"
   ]
  },
  {
   "cell_type": "code",
   "execution_count": 17,
   "id": "1ceecb85-ab90-42eb-90b1-0649b9e7bdf8",
   "metadata": {},
   "outputs": [
    {
     "data": {
      "text/plain": [
       "[5, 4, 3, 2, 1]"
      ]
     },
     "execution_count": 17,
     "metadata": {},
     "output_type": "execute_result"
    }
   ],
   "source": [
    "list(range(5,0,-1))"
   ]
  },
  {
   "cell_type": "code",
   "execution_count": 23,
   "id": "a6a1e6ca-b0f4-43d9-9919-dfb24adc381f",
   "metadata": {},
   "outputs": [
    {
     "name": "stdout",
     "output_type": "stream",
     "text": [
      "element 0: 1\n",
      "element 1: 2\n",
      "element 2: 3\n",
      "element 3: 4\n"
     ]
    }
   ],
   "source": [
    "seq = [1,2,3,4]\n",
    "for i in range(len(seq)):\n",
    "    print(f\"element {i}: {seq[i]}\")"
   ]
  },
  {
   "cell_type": "code",
   "execution_count": 25,
   "id": "49476bac-07fe-47e1-9b5d-0b16eaaf77be",
   "metadata": {},
   "outputs": [
    {
     "name": "stdout",
     "output_type": "stream",
     "text": [
      "2333316668\n"
     ]
    }
   ],
   "source": [
    "total = 0\n",
    "for i in range(100_000):\n",
    "    # %is for remainder\n",
    "    if i % 3 == 0 or i % 5 == 0:\n",
    "        total += i\n",
    "\n",
    "print(total)"
   ]
  }
 ],
 "metadata": {
  "kernelspec": {
   "display_name": "Python [conda env:base] *",
   "language": "python",
   "name": "conda-base-py"
  },
  "language_info": {
   "codemirror_mode": {
    "name": "ipython",
    "version": 3
   },
   "file_extension": ".py",
   "mimetype": "text/x-python",
   "name": "python",
   "nbconvert_exporter": "python",
   "pygments_lexer": "ipython3",
   "version": "3.12.7"
  }
 },
 "nbformat": 4,
 "nbformat_minor": 5
}
